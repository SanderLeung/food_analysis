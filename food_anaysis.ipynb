{
 "cells": [
  {
   "cell_type": "code",
   "execution_count": 33,
   "metadata": {},
   "outputs": [],
   "source": [
    "import pandas as pd\n",
    "import numpy as np \n",
    "import plotly.express as px\n",
    "import seaborn as sns\n",
    "import plotly.offline as py\n",
    "import plotly.graph_objects as go"
   ]
  },
  {
   "cell_type": "code",
   "execution_count": 34,
   "metadata": {},
   "outputs": [
    {
     "data": {
      "text/html": [
       "<div>\n",
       "<style scoped>\n",
       "    .dataframe tbody tr th:only-of-type {\n",
       "        vertical-align: middle;\n",
       "    }\n",
       "\n",
       "    .dataframe tbody tr th {\n",
       "        vertical-align: top;\n",
       "    }\n",
       "\n",
       "    .dataframe thead th {\n",
       "        text-align: right;\n",
       "    }\n",
       "</style>\n",
       "<table border=\"1\" class=\"dataframe\">\n",
       "  <thead>\n",
       "    <tr style=\"text-align: right;\">\n",
       "      <th></th>\n",
       "      <th>Food</th>\n",
       "      <th>Measure</th>\n",
       "      <th>Grams</th>\n",
       "      <th>Calories</th>\n",
       "      <th>Protein</th>\n",
       "      <th>Fat</th>\n",
       "      <th>Sat.Fat</th>\n",
       "      <th>Fiber</th>\n",
       "      <th>Carbs</th>\n",
       "      <th>Category</th>\n",
       "    </tr>\n",
       "  </thead>\n",
       "  <tbody>\n",
       "    <tr>\n",
       "      <th>0</th>\n",
       "      <td>Cows' milk</td>\n",
       "      <td>1 qt.</td>\n",
       "      <td>976</td>\n",
       "      <td>660</td>\n",
       "      <td>32</td>\n",
       "      <td>40</td>\n",
       "      <td>36</td>\n",
       "      <td>0</td>\n",
       "      <td>48</td>\n",
       "      <td>Dairy products</td>\n",
       "    </tr>\n",
       "    <tr>\n",
       "      <th>1</th>\n",
       "      <td>Milk skim</td>\n",
       "      <td>1 qt.</td>\n",
       "      <td>984</td>\n",
       "      <td>360</td>\n",
       "      <td>36</td>\n",
       "      <td>t</td>\n",
       "      <td>t</td>\n",
       "      <td>0</td>\n",
       "      <td>52</td>\n",
       "      <td>Dairy products</td>\n",
       "    </tr>\n",
       "    <tr>\n",
       "      <th>2</th>\n",
       "      <td>Buttermilk</td>\n",
       "      <td>1 cup</td>\n",
       "      <td>246</td>\n",
       "      <td>127</td>\n",
       "      <td>9</td>\n",
       "      <td>5</td>\n",
       "      <td>4</td>\n",
       "      <td>0</td>\n",
       "      <td>13</td>\n",
       "      <td>Dairy products</td>\n",
       "    </tr>\n",
       "    <tr>\n",
       "      <th>3</th>\n",
       "      <td>Evaporated, undiluted</td>\n",
       "      <td>1 cup</td>\n",
       "      <td>252</td>\n",
       "      <td>345</td>\n",
       "      <td>16</td>\n",
       "      <td>20</td>\n",
       "      <td>18</td>\n",
       "      <td>0</td>\n",
       "      <td>24</td>\n",
       "      <td>Dairy products</td>\n",
       "    </tr>\n",
       "    <tr>\n",
       "      <th>4</th>\n",
       "      <td>Fortified milk</td>\n",
       "      <td>6 cups</td>\n",
       "      <td>1,419</td>\n",
       "      <td>1,373</td>\n",
       "      <td>89</td>\n",
       "      <td>42</td>\n",
       "      <td>23</td>\n",
       "      <td>1.4</td>\n",
       "      <td>119</td>\n",
       "      <td>Dairy products</td>\n",
       "    </tr>\n",
       "  </tbody>\n",
       "</table>\n",
       "</div>"
      ],
      "text/plain": [
       "                    Food Measure  Grams Calories Protein Fat Sat.Fat Fiber  \\\n",
       "0             Cows' milk   1 qt.    976      660      32  40      36     0   \n",
       "1              Milk skim   1 qt.    984      360      36   t       t     0   \n",
       "2             Buttermilk   1 cup    246      127       9   5       4     0   \n",
       "3  Evaporated, undiluted   1 cup    252      345      16  20      18     0   \n",
       "4         Fortified milk  6 cups  1,419    1,373      89  42      23   1.4   \n",
       "\n",
       "  Carbs        Category  \n",
       "0    48  Dairy products  \n",
       "1    52  Dairy products  \n",
       "2    13  Dairy products  \n",
       "3    24  Dairy products  \n",
       "4   119  Dairy products  "
      ]
     },
     "execution_count": 34,
     "metadata": {},
     "output_type": "execute_result"
    }
   ],
   "source": [
    "nutrients=pd.read_csv(\"./nutrients_csvfile.csv\")\n",
    "nutrients.head()"
   ]
  },
  {
   "cell_type": "code",
   "execution_count": 35,
   "metadata": {},
   "outputs": [],
   "source": [
    "nutrients=nutrients.replace(\"t\",0)\n",
    "nutrients=nutrients.replace(\"t'\",0)\n",
    "nutrients=nutrients.replace(\",\",\"\", regex=True)\n",
    "nutrients['Fiber']=nutrients['Fiber'].replace(\"a\",\"\", regex=True)\n",
    "nutrients['Calories'][91]=(8+44)/2"
   ]
  },
  {
   "cell_type": "code",
   "execution_count": 36,
   "metadata": {},
   "outputs": [],
   "source": [
    "nutrients['Grams']=pd.to_numeric(nutrients['Grams'])\n",
    "nutrients['Calories']=pd.to_numeric(nutrients['Calories'])\n",
    "nutrients['Protein']=pd.to_numeric(nutrients['Protein'])\n",
    "nutrients['Fat']=pd.to_numeric(nutrients['Fat'])\n",
    "nutrients['Sat.Fat']=pd.to_numeric(nutrients['Sat.Fat'])\n",
    "nutrients['Fiber']=pd.to_numeric(nutrients['Fiber'])\n",
    "nutrients['Carbs']=pd.to_numeric(nutrients['Carbs'])"
   ]
  },
  {
   "cell_type": "code",
   "execution_count": 37,
   "metadata": {},
   "outputs": [],
   "source": [
    "nutrients=nutrients.dropna()"
   ]
  },
  {
   "cell_type": "code",
   "execution_count": 38,
   "metadata": {},
   "outputs": [],
   "source": [
    "nutrients['Protein.%']=nutrients['Protein'] / nutrients['Calories'] * 400\n",
    "nutrients['Protein.%'].fillna(0, inplace=True)\n",
    "nutrients = nutrients[nutrients['Protein.%'] <= 100]\n"
   ]
  },
  {
   "cell_type": "code",
   "execution_count": 39,
   "metadata": {},
   "outputs": [
    {
     "data": {
      "text/plain": [
       "array(['Dairy products', 'Fats Oils Shortenings', 'Meat Poultry',\n",
       "       'Fish Seafood', 'Vegetables A-E', 'Vegetables F-P',\n",
       "       'Vegetables R-Z', 'Fruits A-F', 'Fruits G-P', 'Fruits R-Z',\n",
       "       'Breads cereals fastfoodgrains', 'Soups', 'Desserts sweets',\n",
       "       'Jams Jellies', 'Seeds and Nuts', 'DrinksAlcohol Beverages'],\n",
       "      dtype=object)"
      ]
     },
     "execution_count": 39,
     "metadata": {},
     "output_type": "execute_result"
    }
   ],
   "source": [
    "categories=nutrients['Category'].unique()\n",
    "categories"
   ]
  },
  {
   "cell_type": "code",
   "execution_count": 40,
   "metadata": {},
   "outputs": [
    {
     "data": {
      "application/vnd.plotly.v1+json": {
       "config": {
        "plotlyServerURL": "https://plot.ly"
       },
       "data": [
        {
         "name": "Dairy products",
         "orientation": "v",
         "type": "bar",
         "x": [
          "uncreamed",
          "skim. milk",
          "Cheese",
          "skim instant",
          "skim non-instant",
          "Milk skim",
          "Eggs raw",
          "Buttermilk",
          "Swiss",
          "Processed cheese",
          "Fortified milk",
          "Cheddar grated cup",
          "Eggs Scrambled or fried",
          "Roquefort type",
          "Cheddar",
          "Powdered milk",
          "Cows' milk",
          "Goats' milk",
          "Evaporated undiluted",
          "Custard"
         ],
         "xaxis": "x",
         "y": [
          77.94871794871796,
          56.25,
          50,
          41.37931034482759,
          41.37931034482759,
          40,
          32,
          28.346456692913385,
          26.666666666666668,
          26.666666666666668,
          25.928623452294246,
          24.778761061946902,
          23.636363636363637,
          22.857142857142858,
          22.857142857142858,
          20.97087378640777,
          19.393939393939394,
          19.393939393939394,
          18.55072463768116,
          18.24561403508772
         ],
         "yaxis": "y"
        },
        {
         "name": "Fats Oils Shortenings",
         "orientation": "v",
         "type": "bar",
         "x": [
          "Yolks",
          "Butter",
          "Hydrogenated cooking fat",
          "Lard",
          "Margarine",
          "Margarine 2 pat or",
          "Mayonnaise",
          "Corn oil",
          "Olive oil",
          "Safflower seed oil",
          "French dressing",
          "Thousand Island sauce"
         ],
         "xaxis": "x2",
         "y": [
          20,
          0,
          0,
          0,
          0,
          0,
          0,
          0,
          0,
          0,
          0,
          0
         ],
         "yaxis": "y2"
        },
        {
         "name": "Meat Poultry",
         "orientation": "v",
         "type": "bar",
         "x": [
          "Corned beef hash Dried",
          "Chicken livers fried",
          "Ground lean",
          "Veal",
          "chicken",
          "Corned beef",
          "Steak lean as round",
          "Lambs quarters steamed",
          "Fried breast or leg and thigh chicken",
          "Turkey",
          "Corned beef hash canned",
          "Beef",
          "Roasted chicken",
          "Hamburger",
          "Corned beef hash Stew",
          "Ham as ",
          "Pork roast",
          "Leg roasted",
          "Shoulder braised",
          "Pork chop 1 thick"
         ],
         "xaxis": "x3",
         "y": [
          66.08695652173913,
          62.857142857142854,
          51.891891891891895,
          49.72972972972973,
          49.72972972972973,
          47.56756756756757,
          43.63636363636363,
          41.66666666666667,
          40.816326530612244,
          40.75471698113208,
          40,
          37.55102040816327,
          34.48275862068966,
          34.285714285714285,
          32.432432432432435,
          30.58823529411765,
          27.09677419354839,
          25.477707006369428,
          25.263157894736842,
          24.615384615384617
         ],
         "yaxis": "y3"
        },
        {
         "name": "Fish Seafood",
         "orientation": "v",
         "type": "bar",
         "x": [
          "Shrimp",
          "Lobster",
          "Scallops",
          "Cod",
          "Crab meat",
          "Oyster stew",
          "Swordfish",
          "Flounder",
          "Tuna",
          "Halibut",
          "Salmon",
          "Clams",
          "Sardines",
          "Haddock",
          "Shad",
          "Herring",
          "Fish sticks fried"
         ],
         "xaxis": "x4",
         "y": [
          83.63636363636363,
          78.26086956521739,
          69.23076923076923,
          65.88235294117646,
          62.22222222222222,
          60.8,
          60,
          60,
          58.82352941176471,
          57.14285714285714,
          56.666666666666664,
          55.172413793103445,
          48.888888888888886,
          47.40740740740741,
          47.05882352941176,
          41.70616113744076,
          38
         ],
         "yaxis": "y4"
        },
        {
         "name": "Vegetables A-E",
         "orientation": "v",
         "type": "bar",
         "x": [
          "Stalk raw",
          "Broccoli",
          "Endive",
          "Cauliflower",
          "Brussels sprouts",
          "Collards",
          "Artichoke",
          "Beet greens",
          "Eggplant",
          "Chard steamed",
          "Red kidney",
          "Dandelion greens",
          "Lima dry cooked",
          "Bean sprouts",
          "Lima",
          "Asparagus",
          "Celery",
          "Steamed cabbage",
          "Navy baked with pork",
          "Beans"
         ],
         "xaxis": "x5",
         "y": [
          80,
          44.44444444444444,
          40,
          40,
          40,
          39.21568627450981,
          30.76923076923077,
          29.629629629629626,
          26.666666666666668,
          26.666666666666668,
          26.08695652173913,
          25,
          24.615384615384617,
          23.52941176470588,
          22.857142857142858,
          22.22222222222222,
          20,
          20,
          17.599999999999998,
          16
         ],
         "yaxis": "y5"
        },
        {
         "name": "Vegetables F-P",
         "orientation": "v",
         "type": "bar",
         "x": [
          "Mushrooms canned",
          "Mustard greens",
          "Kale",
          "Lettuce",
          "Lentils",
          "Kohlrabi",
          "Peas",
          "Okra",
          "Onions",
          "Parsnips",
          "Iceberg",
          "Raw green",
          "Parsley"
         ],
         "xaxis": "x6",
         "y": [
          66.66666666666666,
          40,
          35.55555555555556,
          28.57142857142857,
          28.30188679245283,
          20,
          18.181818181818183,
          12.5,
          10,
          8.421052631578947,
          0,
          0,
          0
         ],
         "yaxis": "y6"
        },
        {
         "name": "Vegetables R-Z",
         "orientation": "v",
         "type": "bar",
         "x": [
          "Spinach",
          "Watercress stems raw",
          "Turnip greens",
          "Soybeans",
          "Peppers with beef and crumbs",
          "Fresh steamed peas",
          "Split cooked peas",
          "heated peas",
          "Winter mashed",
          "Scalloped with cheese potatoes",
          "Tomato juice",
          "Peppers Raw green sweet",
          "Tomatoes",
          "Raw 2 by 2 1/2",
          "Squash",
          "Turnips steamed",
          "Steamed potatoes before peeling",
          "Potatoes baked",
          "Potatoes Mashed with milk and butter",
          "Potatoes pan-tried"
         ],
         "xaxis": "x7",
         "y": [
          46.15384615384615,
          44.44444444444444,
          35.55555555555556,
          33.84615384615385,
          29.80392156862745,
          28.57142857142857,
          27.82608695652174,
          22.641509433962266,
          16.842105263157894,
          16.551724137931036,
          16,
          16,
          16,
          13.333333333333334,
          11.428571428571429,
          10,
          10,
          8,
          6.956521739130435,
          5.970149253731343
         ],
         "yaxis": "y7"
        },
        {
         "name": "Fruits A-F",
         "orientation": "v",
         "type": "bar",
         "x": [
          "Cantaloupe",
          "Blackberries",
          "Fresh raw figs",
          "Cherries",
          "Dried uncooked",
          "Fresh",
          "Figs",
          "Fresh raw",
          "Banana",
          "Avocado",
          "Apricots",
          "Dates",
          "figs Canned with syrup ",
          "Nectar or juice",
          "Fruit cocktail canned",
          "Blueberries",
          "Cranberry sauce sweetened",
          "Apple vinegar",
          "Stewed or canned",
          "Apples raw"
         ],
         "xaxis": "x8",
         "y": [
          10,
          9.411764705882353,
          8.88888888888889,
          8,
          7.2727272727272725,
          7.2727272727272725,
          6.666666666666667,
          6.153846153846154,
          4.705882352941177,
          4.324324324324325,
          3.6363636363636362,
          3.1683168316831685,
          3.076923076923077,
          2.857142857142857,
          2.051282051282051,
          1.6326530612244898,
          0,
          0,
          0,
          0
         ],
         "yaxis": "y8"
        },
        {
         "name": "Fruits G-P",
         "orientation": "v",
         "type": "bar",
         "x": [
          "Oranges 3\" diameter",
          "Fresh raw",
          "Grapefruit fresh 5\" diameter",
          "Orange juice",
          "Grapes",
          "Olives large",
          "Persimmons",
          "Papaya",
          "Raw diced",
          "Raw 3 by 2V",
          "Prunes",
          "European as Muscat Tokay",
          "Grapefruit juice",
          "OlivesRipe",
          "Pineapple juice",
          "Grape juice",
          "Frozen ",
          "Grapefruit sections",
          "Prune juice",
          "Plums"
         ],
         "xaxis": "x9",
         "y": [
          13.333333333333334,
          11.428571428571429,
          8,
          7.142857142857142,
          5.714285714285714,
          5.555555555555555,
          5.333333333333334,
          5.333333333333334,
          5.333333333333334,
          4,
          4,
          4,
          4,
          3.8095238095238098,
          3.3333333333333335,
          2.5,
          2.4242424242424243,
          2.3529411764705883,
          2.3529411764705883,
          2.1621621621621623
         ],
         "yaxis": "y9"
        },
        {
         "name": "Fruits R-Z",
         "orientation": "v",
         "type": "bar",
         "x": [
          "Tangerines",
          "Watermelon",
          "Raisins",
          "Strawberries",
          "Rhubarb sweetened",
          "Raspberries",
          "Raw red",
          "Raw"
         ],
         "xaxis": "x10",
         "y": [
          10,
          6.666666666666667,
          3.4782608695652173,
          1.6528925619834711,
          1.0389610389610389,
          0,
          0,
          0
         ],
         "yaxis": "y10"
        },
        {
         "name": "Breads cereals fastfoodgrains",
         "orientation": "v",
         "type": "bar",
         "x": [
          "Flour",
          "Wheat-germ cereal toasted",
          "Wheat germ",
          "Corn grits cooked",
          "Spaghetti with meat sauce",
          "Rice polish",
          "Pizza 14\" diam.",
          "Wheat cooked",
          "Whole-wheat",
          "whole-wheat",
          "Wheat meal cereal unrefined",
          "Baked with cheese",
          "Whole-wheat",
          "Rye",
          "Noodles",
          "Waffles",
          "Wheat (whole)",
          "Oatmeal",
          "Bread cracked wheat",
          "Macaroni"
         ],
         "xaxis": "x11",
         "y": [
          33.91304347826087,
          30.76923076923077,
          27.755102040816325,
          26.666666666666668,
          18.24561403508772,
          18.181818181818183,
          17.77777777777778,
          17.454545454545457,
          17.454545454545457,
          15.686274509803921,
          15.53398058252427,
          15.157894736842106,
          14.545454545454545,
          14.545454545454545,
          14.000000000000002,
          13.333333333333334,
          13.333333333333334,
          13.333333333333334,
          13.333333333333334,
          12.903225806451612
         ],
         "yaxis": "y11"
        },
        {
         "name": "Soups",
         "orientation": "v",
         "type": "bar",
         "x": [
          "Bouillon",
          "Beef soup",
          "Clam chowder",
          "Split-pea soup",
          "chicken soup",
          "Noodle",
          "Vegetable",
          "Bean soups",
          "Cream soups",
          "Tomato soup"
         ],
         "xaxis": "x12",
         "y": [
          83.33333333333334,
          24,
          23.52941176470588,
          21.768707482993197,
          21.333333333333336,
          20.869565217391305,
          20,
          16.842105263157894,
          14.000000000000002,
          13.714285714285715
         ],
         "yaxis": "y12"
        },
        {
         "name": "Desserts sweets",
         "orientation": "v",
         "type": "bar",
         "x": [
          "Tapioca cream pudding",
          "Bread pudding",
          "Cakes",
          "Custard",
          "Sponge cake",
          "Gelatin made with water",
          "Plain with no icing",
          "Fruit cake",
          "Pumpkin Pie",
          "Cupcake",
          "Doughnuts",
          "Lemon meringue",
          "Chocolate fudge",
          "Gingerbread",
          "Marshmallows",
          "9\" diam. pie",
          "Mince",
          "Cherry Pie",
          "Milk chocolate",
          "Apple betty"
         ],
         "xaxis": "x13",
         "y": [
          11.940298507462686,
          11.76470588235294,
          10.909090909090908,
          10.566037735849058,
          10.434782608695652,
          10.32258064516129,
          8.88888888888889,
          7.6190476190476195,
          7.547169811320755,
          7.5,
          5.9259259259259265,
          5.333333333333334,
          4.761904761904762,
          4.444444444444445,
          4.081632653061225,
          3.6363636363636362,
          3.5294117647058822,
          3.5294117647058822,
          2.7586206896551726,
          2.666666666666667
         ],
         "yaxis": "y13"
        },
        {
         "name": "Jams Jellies",
         "orientation": "v",
         "type": "bar",
         "x": [
          "Honey",
          "preserves",
          "Jellies",
          "Molasses",
          "Cane Syrup",
          "Brown firm-packed dark sugar",
          "Syrup",
          "table blends sugar"
         ],
         "xaxis": "x14",
         "y": [
          0,
          0,
          0,
          0,
          0,
          0,
          0,
          0
         ],
         "yaxis": "y14"
        },
        {
         "name": "Seeds and Nuts",
         "orientation": "v",
         "type": "bar",
         "x": [
          "Peanut butter natural",
          "Peanuts",
          "Sunflower seeds",
          "Peanut butter",
          "Sesame seeds",
          "Cashews",
          "Almonds",
          "roasted and salted",
          "Brazil nuts",
          "Walnuts",
          "Pecans",
          "coconut sweetened"
         ],
         "xaxis": "x15",
         "y": [
          18.30985915492958,
          17.93103448275862,
          17.142857142857142,
          16,
          12.857142857142856,
          12.244897959183673,
          12.23529411764706,
          11.845102505694761,
          8.752735229759299,
          8.615384615384615,
          5.830903790087463,
          1.4598540145985401
         ],
         "yaxis": "y15"
        },
        {
         "name": "DrinksAlcohol Beverages",
         "orientation": "v",
         "type": "bar",
         "x": [
          "Beer",
          "Gin",
          "Wines",
          "Table (12.2% alcohol)",
          "Carbonated drinks Artificially sweetened",
          "Club soda",
          "Cola drinks",
          "Fruit-flavored soda",
          "Ginger ale",
          "Root beer",
          "Coffee",
          "Tea"
         ],
         "xaxis": "x16",
         "y": [
          0,
          0,
          0,
          0,
          0,
          0,
          0,
          0,
          0,
          0,
          0,
          0
         ],
         "yaxis": "y16"
        }
       ],
       "layout": {
        "annotations": [
         {
          "font": {
           "size": 16
          },
          "showarrow": false,
          "text": "Dairy products",
          "x": 0.5,
          "xanchor": "center",
          "xref": "paper",
          "y": 1,
          "yanchor": "bottom",
          "yref": "paper"
         },
         {
          "font": {
           "size": 16
          },
          "showarrow": false,
          "text": "Fats Oils Shortenings",
          "x": 0.5,
          "xanchor": "center",
          "xref": "paper",
          "y": 0.935546875,
          "yanchor": "bottom",
          "yref": "paper"
         },
         {
          "font": {
           "size": 16
          },
          "showarrow": false,
          "text": "Meat Poultry",
          "x": 0.5,
          "xanchor": "center",
          "xref": "paper",
          "y": 0.87109375,
          "yanchor": "bottom",
          "yref": "paper"
         },
         {
          "font": {
           "size": 16
          },
          "showarrow": false,
          "text": "Fish Seafood",
          "x": 0.5,
          "xanchor": "center",
          "xref": "paper",
          "y": 0.806640625,
          "yanchor": "bottom",
          "yref": "paper"
         },
         {
          "font": {
           "size": 16
          },
          "showarrow": false,
          "text": "Vegetables A-E",
          "x": 0.5,
          "xanchor": "center",
          "xref": "paper",
          "y": 0.7421875,
          "yanchor": "bottom",
          "yref": "paper"
         },
         {
          "font": {
           "size": 16
          },
          "showarrow": false,
          "text": "Vegetables F-P",
          "x": 0.5,
          "xanchor": "center",
          "xref": "paper",
          "y": 0.677734375,
          "yanchor": "bottom",
          "yref": "paper"
         },
         {
          "font": {
           "size": 16
          },
          "showarrow": false,
          "text": "Vegetables R-Z",
          "x": 0.5,
          "xanchor": "center",
          "xref": "paper",
          "y": 0.61328125,
          "yanchor": "bottom",
          "yref": "paper"
         },
         {
          "font": {
           "size": 16
          },
          "showarrow": false,
          "text": "Fruits A-F",
          "x": 0.5,
          "xanchor": "center",
          "xref": "paper",
          "y": 0.548828125,
          "yanchor": "bottom",
          "yref": "paper"
         },
         {
          "font": {
           "size": 16
          },
          "showarrow": false,
          "text": "Fruits G-P",
          "x": 0.5,
          "xanchor": "center",
          "xref": "paper",
          "y": 0.484375,
          "yanchor": "bottom",
          "yref": "paper"
         },
         {
          "font": {
           "size": 16
          },
          "showarrow": false,
          "text": "Fruits R-Z",
          "x": 0.5,
          "xanchor": "center",
          "xref": "paper",
          "y": 0.419921875,
          "yanchor": "bottom",
          "yref": "paper"
         },
         {
          "font": {
           "size": 16
          },
          "showarrow": false,
          "text": "Breads cereals fastfoodgrains",
          "x": 0.5,
          "xanchor": "center",
          "xref": "paper",
          "y": 0.35546875,
          "yanchor": "bottom",
          "yref": "paper"
         },
         {
          "font": {
           "size": 16
          },
          "showarrow": false,
          "text": "Soups",
          "x": 0.5,
          "xanchor": "center",
          "xref": "paper",
          "y": 0.291015625,
          "yanchor": "bottom",
          "yref": "paper"
         },
         {
          "font": {
           "size": 16
          },
          "showarrow": false,
          "text": "Desserts sweets",
          "x": 0.5,
          "xanchor": "center",
          "xref": "paper",
          "y": 0.2265625,
          "yanchor": "bottom",
          "yref": "paper"
         },
         {
          "font": {
           "size": 16
          },
          "showarrow": false,
          "text": "Jams Jellies",
          "x": 0.5,
          "xanchor": "center",
          "xref": "paper",
          "y": 0.162109375,
          "yanchor": "bottom",
          "yref": "paper"
         },
         {
          "font": {
           "size": 16
          },
          "showarrow": false,
          "text": "Seeds and Nuts",
          "x": 0.5,
          "xanchor": "center",
          "xref": "paper",
          "y": 0.09765625,
          "yanchor": "bottom",
          "yref": "paper"
         },
         {
          "font": {
           "size": 16
          },
          "showarrow": false,
          "text": "DrinksAlcohol Beverages",
          "x": 0.5,
          "xanchor": "center",
          "xref": "paper",
          "y": 0.033203125,
          "yanchor": "bottom",
          "yref": "paper"
         }
        ],
        "height": 12000,
        "showlegend": true,
        "template": {
         "data": {
          "bar": [
           {
            "error_x": {
             "color": "#2a3f5f"
            },
            "error_y": {
             "color": "#2a3f5f"
            },
            "marker": {
             "line": {
              "color": "#E5ECF6",
              "width": 0.5
             },
             "pattern": {
              "fillmode": "overlay",
              "size": 10,
              "solidity": 0.2
             }
            },
            "type": "bar"
           }
          ],
          "barpolar": [
           {
            "marker": {
             "line": {
              "color": "#E5ECF6",
              "width": 0.5
             },
             "pattern": {
              "fillmode": "overlay",
              "size": 10,
              "solidity": 0.2
             }
            },
            "type": "barpolar"
           }
          ],
          "carpet": [
           {
            "aaxis": {
             "endlinecolor": "#2a3f5f",
             "gridcolor": "white",
             "linecolor": "white",
             "minorgridcolor": "white",
             "startlinecolor": "#2a3f5f"
            },
            "baxis": {
             "endlinecolor": "#2a3f5f",
             "gridcolor": "white",
             "linecolor": "white",
             "minorgridcolor": "white",
             "startlinecolor": "#2a3f5f"
            },
            "type": "carpet"
           }
          ],
          "choropleth": [
           {
            "colorbar": {
             "outlinewidth": 0,
             "ticks": ""
            },
            "type": "choropleth"
           }
          ],
          "contour": [
           {
            "colorbar": {
             "outlinewidth": 0,
             "ticks": ""
            },
            "colorscale": [
             [
              0,
              "#0d0887"
             ],
             [
              0.1111111111111111,
              "#46039f"
             ],
             [
              0.2222222222222222,
              "#7201a8"
             ],
             [
              0.3333333333333333,
              "#9c179e"
             ],
             [
              0.4444444444444444,
              "#bd3786"
             ],
             [
              0.5555555555555556,
              "#d8576b"
             ],
             [
              0.6666666666666666,
              "#ed7953"
             ],
             [
              0.7777777777777778,
              "#fb9f3a"
             ],
             [
              0.8888888888888888,
              "#fdca26"
             ],
             [
              1,
              "#f0f921"
             ]
            ],
            "type": "contour"
           }
          ],
          "contourcarpet": [
           {
            "colorbar": {
             "outlinewidth": 0,
             "ticks": ""
            },
            "type": "contourcarpet"
           }
          ],
          "heatmap": [
           {
            "colorbar": {
             "outlinewidth": 0,
             "ticks": ""
            },
            "colorscale": [
             [
              0,
              "#0d0887"
             ],
             [
              0.1111111111111111,
              "#46039f"
             ],
             [
              0.2222222222222222,
              "#7201a8"
             ],
             [
              0.3333333333333333,
              "#9c179e"
             ],
             [
              0.4444444444444444,
              "#bd3786"
             ],
             [
              0.5555555555555556,
              "#d8576b"
             ],
             [
              0.6666666666666666,
              "#ed7953"
             ],
             [
              0.7777777777777778,
              "#fb9f3a"
             ],
             [
              0.8888888888888888,
              "#fdca26"
             ],
             [
              1,
              "#f0f921"
             ]
            ],
            "type": "heatmap"
           }
          ],
          "heatmapgl": [
           {
            "colorbar": {
             "outlinewidth": 0,
             "ticks": ""
            },
            "colorscale": [
             [
              0,
              "#0d0887"
             ],
             [
              0.1111111111111111,
              "#46039f"
             ],
             [
              0.2222222222222222,
              "#7201a8"
             ],
             [
              0.3333333333333333,
              "#9c179e"
             ],
             [
              0.4444444444444444,
              "#bd3786"
             ],
             [
              0.5555555555555556,
              "#d8576b"
             ],
             [
              0.6666666666666666,
              "#ed7953"
             ],
             [
              0.7777777777777778,
              "#fb9f3a"
             ],
             [
              0.8888888888888888,
              "#fdca26"
             ],
             [
              1,
              "#f0f921"
             ]
            ],
            "type": "heatmapgl"
           }
          ],
          "histogram": [
           {
            "marker": {
             "pattern": {
              "fillmode": "overlay",
              "size": 10,
              "solidity": 0.2
             }
            },
            "type": "histogram"
           }
          ],
          "histogram2d": [
           {
            "colorbar": {
             "outlinewidth": 0,
             "ticks": ""
            },
            "colorscale": [
             [
              0,
              "#0d0887"
             ],
             [
              0.1111111111111111,
              "#46039f"
             ],
             [
              0.2222222222222222,
              "#7201a8"
             ],
             [
              0.3333333333333333,
              "#9c179e"
             ],
             [
              0.4444444444444444,
              "#bd3786"
             ],
             [
              0.5555555555555556,
              "#d8576b"
             ],
             [
              0.6666666666666666,
              "#ed7953"
             ],
             [
              0.7777777777777778,
              "#fb9f3a"
             ],
             [
              0.8888888888888888,
              "#fdca26"
             ],
             [
              1,
              "#f0f921"
             ]
            ],
            "type": "histogram2d"
           }
          ],
          "histogram2dcontour": [
           {
            "colorbar": {
             "outlinewidth": 0,
             "ticks": ""
            },
            "colorscale": [
             [
              0,
              "#0d0887"
             ],
             [
              0.1111111111111111,
              "#46039f"
             ],
             [
              0.2222222222222222,
              "#7201a8"
             ],
             [
              0.3333333333333333,
              "#9c179e"
             ],
             [
              0.4444444444444444,
              "#bd3786"
             ],
             [
              0.5555555555555556,
              "#d8576b"
             ],
             [
              0.6666666666666666,
              "#ed7953"
             ],
             [
              0.7777777777777778,
              "#fb9f3a"
             ],
             [
              0.8888888888888888,
              "#fdca26"
             ],
             [
              1,
              "#f0f921"
             ]
            ],
            "type": "histogram2dcontour"
           }
          ],
          "mesh3d": [
           {
            "colorbar": {
             "outlinewidth": 0,
             "ticks": ""
            },
            "type": "mesh3d"
           }
          ],
          "parcoords": [
           {
            "line": {
             "colorbar": {
              "outlinewidth": 0,
              "ticks": ""
             }
            },
            "type": "parcoords"
           }
          ],
          "pie": [
           {
            "automargin": true,
            "type": "pie"
           }
          ],
          "scatter": [
           {
            "fillpattern": {
             "fillmode": "overlay",
             "size": 10,
             "solidity": 0.2
            },
            "type": "scatter"
           }
          ],
          "scatter3d": [
           {
            "line": {
             "colorbar": {
              "outlinewidth": 0,
              "ticks": ""
             }
            },
            "marker": {
             "colorbar": {
              "outlinewidth": 0,
              "ticks": ""
             }
            },
            "type": "scatter3d"
           }
          ],
          "scattercarpet": [
           {
            "marker": {
             "colorbar": {
              "outlinewidth": 0,
              "ticks": ""
             }
            },
            "type": "scattercarpet"
           }
          ],
          "scattergeo": [
           {
            "marker": {
             "colorbar": {
              "outlinewidth": 0,
              "ticks": ""
             }
            },
            "type": "scattergeo"
           }
          ],
          "scattergl": [
           {
            "marker": {
             "colorbar": {
              "outlinewidth": 0,
              "ticks": ""
             }
            },
            "type": "scattergl"
           }
          ],
          "scattermapbox": [
           {
            "marker": {
             "colorbar": {
              "outlinewidth": 0,
              "ticks": ""
             }
            },
            "type": "scattermapbox"
           }
          ],
          "scatterpolar": [
           {
            "marker": {
             "colorbar": {
              "outlinewidth": 0,
              "ticks": ""
             }
            },
            "type": "scatterpolar"
           }
          ],
          "scatterpolargl": [
           {
            "marker": {
             "colorbar": {
              "outlinewidth": 0,
              "ticks": ""
             }
            },
            "type": "scatterpolargl"
           }
          ],
          "scatterternary": [
           {
            "marker": {
             "colorbar": {
              "outlinewidth": 0,
              "ticks": ""
             }
            },
            "type": "scatterternary"
           }
          ],
          "surface": [
           {
            "colorbar": {
             "outlinewidth": 0,
             "ticks": ""
            },
            "colorscale": [
             [
              0,
              "#0d0887"
             ],
             [
              0.1111111111111111,
              "#46039f"
             ],
             [
              0.2222222222222222,
              "#7201a8"
             ],
             [
              0.3333333333333333,
              "#9c179e"
             ],
             [
              0.4444444444444444,
              "#bd3786"
             ],
             [
              0.5555555555555556,
              "#d8576b"
             ],
             [
              0.6666666666666666,
              "#ed7953"
             ],
             [
              0.7777777777777778,
              "#fb9f3a"
             ],
             [
              0.8888888888888888,
              "#fdca26"
             ],
             [
              1,
              "#f0f921"
             ]
            ],
            "type": "surface"
           }
          ],
          "table": [
           {
            "cells": {
             "fill": {
              "color": "#EBF0F8"
             },
             "line": {
              "color": "white"
             }
            },
            "header": {
             "fill": {
              "color": "#C8D4E3"
             },
             "line": {
              "color": "white"
             }
            },
            "type": "table"
           }
          ]
         },
         "layout": {
          "annotationdefaults": {
           "arrowcolor": "#2a3f5f",
           "arrowhead": 0,
           "arrowwidth": 1
          },
          "autotypenumbers": "strict",
          "coloraxis": {
           "colorbar": {
            "outlinewidth": 0,
            "ticks": ""
           }
          },
          "colorscale": {
           "diverging": [
            [
             0,
             "#8e0152"
            ],
            [
             0.1,
             "#c51b7d"
            ],
            [
             0.2,
             "#de77ae"
            ],
            [
             0.3,
             "#f1b6da"
            ],
            [
             0.4,
             "#fde0ef"
            ],
            [
             0.5,
             "#f7f7f7"
            ],
            [
             0.6,
             "#e6f5d0"
            ],
            [
             0.7,
             "#b8e186"
            ],
            [
             0.8,
             "#7fbc41"
            ],
            [
             0.9,
             "#4d9221"
            ],
            [
             1,
             "#276419"
            ]
           ],
           "sequential": [
            [
             0,
             "#0d0887"
            ],
            [
             0.1111111111111111,
             "#46039f"
            ],
            [
             0.2222222222222222,
             "#7201a8"
            ],
            [
             0.3333333333333333,
             "#9c179e"
            ],
            [
             0.4444444444444444,
             "#bd3786"
            ],
            [
             0.5555555555555556,
             "#d8576b"
            ],
            [
             0.6666666666666666,
             "#ed7953"
            ],
            [
             0.7777777777777778,
             "#fb9f3a"
            ],
            [
             0.8888888888888888,
             "#fdca26"
            ],
            [
             1,
             "#f0f921"
            ]
           ],
           "sequentialminus": [
            [
             0,
             "#0d0887"
            ],
            [
             0.1111111111111111,
             "#46039f"
            ],
            [
             0.2222222222222222,
             "#7201a8"
            ],
            [
             0.3333333333333333,
             "#9c179e"
            ],
            [
             0.4444444444444444,
             "#bd3786"
            ],
            [
             0.5555555555555556,
             "#d8576b"
            ],
            [
             0.6666666666666666,
             "#ed7953"
            ],
            [
             0.7777777777777778,
             "#fb9f3a"
            ],
            [
             0.8888888888888888,
             "#fdca26"
            ],
            [
             1,
             "#f0f921"
            ]
           ]
          },
          "colorway": [
           "#636efa",
           "#EF553B",
           "#00cc96",
           "#ab63fa",
           "#FFA15A",
           "#19d3f3",
           "#FF6692",
           "#B6E880",
           "#FF97FF",
           "#FECB52"
          ],
          "font": {
           "color": "#2a3f5f"
          },
          "geo": {
           "bgcolor": "white",
           "lakecolor": "white",
           "landcolor": "#E5ECF6",
           "showlakes": true,
           "showland": true,
           "subunitcolor": "white"
          },
          "hoverlabel": {
           "align": "left"
          },
          "hovermode": "closest",
          "mapbox": {
           "style": "light"
          },
          "paper_bgcolor": "white",
          "plot_bgcolor": "#E5ECF6",
          "polar": {
           "angularaxis": {
            "gridcolor": "white",
            "linecolor": "white",
            "ticks": ""
           },
           "bgcolor": "#E5ECF6",
           "radialaxis": {
            "gridcolor": "white",
            "linecolor": "white",
            "ticks": ""
           }
          },
          "scene": {
           "xaxis": {
            "backgroundcolor": "#E5ECF6",
            "gridcolor": "white",
            "gridwidth": 2,
            "linecolor": "white",
            "showbackground": true,
            "ticks": "",
            "zerolinecolor": "white"
           },
           "yaxis": {
            "backgroundcolor": "#E5ECF6",
            "gridcolor": "white",
            "gridwidth": 2,
            "linecolor": "white",
            "showbackground": true,
            "ticks": "",
            "zerolinecolor": "white"
           },
           "zaxis": {
            "backgroundcolor": "#E5ECF6",
            "gridcolor": "white",
            "gridwidth": 2,
            "linecolor": "white",
            "showbackground": true,
            "ticks": "",
            "zerolinecolor": "white"
           }
          },
          "shapedefaults": {
           "line": {
            "color": "#2a3f5f"
           }
          },
          "ternary": {
           "aaxis": {
            "gridcolor": "white",
            "linecolor": "white",
            "ticks": ""
           },
           "baxis": {
            "gridcolor": "white",
            "linecolor": "white",
            "ticks": ""
           },
           "bgcolor": "#E5ECF6",
           "caxis": {
            "gridcolor": "white",
            "linecolor": "white",
            "ticks": ""
           }
          },
          "title": {
           "x": 0.05
          },
          "xaxis": {
           "automargin": true,
           "gridcolor": "white",
           "linecolor": "white",
           "ticks": "",
           "title": {
            "standoff": 15
           },
           "zerolinecolor": "white",
           "zerolinewidth": 2
          },
          "yaxis": {
           "automargin": true,
           "gridcolor": "white",
           "linecolor": "white",
           "ticks": "",
           "title": {
            "standoff": 15
           },
           "zerolinecolor": "white",
           "zerolinewidth": 2
          }
         }
        },
        "title": {
         "text": "Top Protein Values by Category"
        },
        "xaxis": {
         "anchor": "y",
         "domain": [
          0,
          1
         ],
         "title": {
          "text": "Protein"
         }
        },
        "xaxis10": {
         "anchor": "y10",
         "domain": [
          0,
          1
         ]
        },
        "xaxis11": {
         "anchor": "y11",
         "domain": [
          0,
          1
         ]
        },
        "xaxis12": {
         "anchor": "y12",
         "domain": [
          0,
          1
         ]
        },
        "xaxis13": {
         "anchor": "y13",
         "domain": [
          0,
          1
         ]
        },
        "xaxis14": {
         "anchor": "y14",
         "domain": [
          0,
          1
         ]
        },
        "xaxis15": {
         "anchor": "y15",
         "domain": [
          0,
          1
         ]
        },
        "xaxis16": {
         "anchor": "y16",
         "domain": [
          0,
          1
         ]
        },
        "xaxis2": {
         "anchor": "y2",
         "domain": [
          0,
          1
         ]
        },
        "xaxis3": {
         "anchor": "y3",
         "domain": [
          0,
          1
         ]
        },
        "xaxis4": {
         "anchor": "y4",
         "domain": [
          0,
          1
         ]
        },
        "xaxis5": {
         "anchor": "y5",
         "domain": [
          0,
          1
         ]
        },
        "xaxis6": {
         "anchor": "y6",
         "domain": [
          0,
          1
         ]
        },
        "xaxis7": {
         "anchor": "y7",
         "domain": [
          0,
          1
         ]
        },
        "xaxis8": {
         "anchor": "y8",
         "domain": [
          0,
          1
         ]
        },
        "xaxis9": {
         "anchor": "y9",
         "domain": [
          0,
          1
         ]
        },
        "yaxis": {
         "anchor": "x",
         "domain": [
          0.966796875,
          1
         ],
         "title": {
          "text": "Category"
         }
        },
        "yaxis10": {
         "anchor": "x10",
         "domain": [
          0.38671875,
          0.419921875
         ]
        },
        "yaxis11": {
         "anchor": "x11",
         "domain": [
          0.322265625,
          0.35546875
         ]
        },
        "yaxis12": {
         "anchor": "x12",
         "domain": [
          0.2578125,
          0.291015625
         ]
        },
        "yaxis13": {
         "anchor": "x13",
         "domain": [
          0.193359375,
          0.2265625
         ]
        },
        "yaxis14": {
         "anchor": "x14",
         "domain": [
          0.12890625,
          0.162109375
         ]
        },
        "yaxis15": {
         "anchor": "x15",
         "domain": [
          0.064453125,
          0.09765625
         ]
        },
        "yaxis16": {
         "anchor": "x16",
         "domain": [
          0,
          0.033203125
         ]
        },
        "yaxis2": {
         "anchor": "x2",
         "domain": [
          0.90234375,
          0.935546875
         ]
        },
        "yaxis3": {
         "anchor": "x3",
         "domain": [
          0.837890625,
          0.87109375
         ]
        },
        "yaxis4": {
         "anchor": "x4",
         "domain": [
          0.7734375,
          0.806640625
         ]
        },
        "yaxis5": {
         "anchor": "x5",
         "domain": [
          0.708984375,
          0.7421875
         ]
        },
        "yaxis6": {
         "anchor": "x6",
         "domain": [
          0.64453125,
          0.677734375
         ]
        },
        "yaxis7": {
         "anchor": "x7",
         "domain": [
          0.580078125,
          0.61328125
         ]
        },
        "yaxis8": {
         "anchor": "x8",
         "domain": [
          0.515625,
          0.548828125
         ]
        },
        "yaxis9": {
         "anchor": "x9",
         "domain": [
          0.451171875,
          0.484375
         ]
        }
       }
      }
     },
     "metadata": {},
     "output_type": "display_data"
    }
   ],
   "source": [
    "from plotly.subplots import make_subplots\n",
    "import plotly.graph_objects as go\n",
    "\n",
    "fig = make_subplots(\n",
    "    rows=len(categories), cols=1, subplot_titles=categories\n",
    "    )\n",
    "\n",
    "for i, category in enumerate(categories):\n",
    "    data = nutrients[nutrients['Category'] == category].sort_values(by=\"Protein.%\", ascending=False).head(20)\n",
    "    trace = go.Bar(x=data['Food'], y=data['Protein.%'], orientation='v', name=category)\n",
    "    fig.add_trace(trace, row=i+1, col=1)\n",
    "\n",
    "fig.update_layout(\n",
    "    title=\"Top Protein Values by Category\",\n",
    "    xaxis_title=\"Protein\",\n",
    "    yaxis_title=\"Category\",\n",
    "    showlegend=True,\n",
    "    height=12000\n",
    ")\n",
    "\n",
    "fig.show()"
   ]
  }
 ],
 "metadata": {
  "kernelspec": {
   "display_name": "Python 3",
   "language": "python",
   "name": "python3"
  },
  "language_info": {
   "codemirror_mode": {
    "name": "ipython",
    "version": 3
   },
   "file_extension": ".py",
   "mimetype": "text/x-python",
   "name": "python",
   "nbconvert_exporter": "python",
   "pygments_lexer": "ipython3",
   "version": "3.10.11"
  },
  "orig_nbformat": 4
 },
 "nbformat": 4,
 "nbformat_minor": 2
}
